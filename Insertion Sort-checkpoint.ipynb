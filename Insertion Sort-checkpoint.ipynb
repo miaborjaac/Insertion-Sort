{
 "cells": [
  {
   "cell_type": "markdown",
   "metadata": {},
   "source": [
    "# INSERTION SORT\n",
    "\n",
    "La siguiente función calcula el tiempo de ejecución de un algoritmo de ordenamiento que se le pase en uno de sus argumentos, además de un arreglo. Retorna el promedio de 10 iteraciones."
   ]
  },
  {
   "cell_type": "code",
   "execution_count": 2,
   "metadata": {
    "collapsed": true
   },
   "outputs": [],
   "source": [
    "import time\n",
    "import gc\n",
    "\n",
    "def calc_time(sort_function, array):\n",
    "    timesum = 0\n",
    "    gc.collect()\n",
    "    for i in range(10):\n",
    "        array_copy = list(array)\n",
    "        tic = time.time()\n",
    "        sort_function(array_copy)\n",
    "        toc = time.time()\n",
    "        timesum += toc - tic\n",
    "    return timesum/10"
   ]
  },
  {
   "cell_type": "markdown",
   "metadata": {},
   "source": [
    "A continuación, la función de ordenamiento por inserción."
   ]
  },
  {
   "cell_type": "code",
   "execution_count": 3,
   "metadata": {
    "collapsed": true
   },
   "outputs": [],
   "source": [
    "def insertion_sort(A):\n",
    "    j = 1\n",
    "    while j < len(A):\n",
    "        key = A[j]\n",
    "        i = j - 1\n",
    "        while (i >= 0) and (A[i] > key):\n",
    "            A[i + 1] = A[i]\n",
    "            i = i -1\n",
    "        A[i + 1] = key\n",
    "        j = j + 1"
   ]
  },
  {
   "cell_type": "markdown",
   "metadata": {
    "collapsed": true
   },
   "source": [
    "## Caso promedio.\n",
    "Para este caso se realizaron las n! permutaciones de arreglos con tamaños 4, 5 y 6. Dichas permutaciones se generaron de la siguiente manera, almacenando los tiempos retornados en calc_time() en variables respectivas."
   ]
  },
  {
   "cell_type": "code",
   "execution_count": 7,
   "metadata": {
    "collapsed": false
   },
   "outputs": [],
   "source": [
    "import itertools\n",
    "\n",
    "# n = 4 (4! permutaciones)\n",
    "para_cuatro = 0\n",
    "c = 0\n",
    "z1 = range(1, 5, 1)\n",
    "a = list(itertools.permutations(z1))\n",
    "for i in a:\n",
    "    c += calc_time(insertion_sort, i)\n",
    "para_cuatro += c/len(a)"
   ]
  },
  {
   "cell_type": "code",
   "execution_count": 8,
   "metadata": {
    "collapsed": true
   },
   "outputs": [],
   "source": [
    "# n = 5 (5! permutaciones)\n",
    "para_cinco = 0\n",
    "c = 0\n",
    "z2 = range(1, 6, 1)\n",
    "a = list(itertools.permutations(z2))\n",
    "for j in a:\n",
    "    c += calc_time(insertion_sort, j)\n",
    "para_cinco += c/len(a)"
   ]
  },
  {
   "cell_type": "code",
   "execution_count": 9,
   "metadata": {
    "collapsed": true
   },
   "outputs": [],
   "source": [
    "# n = 6 (6! permutaciones)\n",
    "para_seis = 0\n",
    "c = 0\n",
    "z3 = range(1, 7, 1)\n",
    "a = list(itertools.permutations(z3))\n",
    "for k in a:\n",
    "    c += calc_time(insertion_sort, k)\n",
    "para_seis += c/len(a)"
   ]
  },
  {
   "cell_type": "code",
   "execution_count": 10,
   "metadata": {
    "collapsed": false
   },
   "outputs": [
    {
     "name": "stdout",
     "output_type": "stream",
     "text": [
      "8.3327293396e-06\n",
      "1.66654586792e-06\n",
      "1.05555852254e-05\n"
     ]
    }
   ],
   "source": [
    "print para_cuatro\n",
    "print para_cinco\n",
    "print para_seis"
   ]
  },
  {
   "cell_type": "markdown",
   "metadata": {},
   "source": [
    "## Cálculo de las funciones de tiempo.\n",
    "Por medio del método de interpolación de Lagrange, se encontró cada función de tiempo para el mejor caso, peor caso y caso promedio."
   ]
  },
  {
   "cell_type": "code",
   "execution_count": 11,
   "metadata": {
    "collapsed": true
   },
   "outputs": [],
   "source": [
    "def funcion_prom(x):\n",
    "    return 0.0000000424*(x**2) - 0.0000004316*x + 0.0000010063\n",
    "\n",
    "def funcion_peor(x):\n",
    "    return 9.375*(10**(-8))*(x**2) + 0.000001875*(x) - 0.000028125\n",
    "\n",
    "def funcion_mejor(x):\n",
    "    return 0.0000000205*(x**2) - 0.000000975*x + 0.00000465"
   ]
  },
  {
   "cell_type": "code",
   "execution_count": 14,
   "metadata": {
    "collapsed": false
   },
   "outputs": [
    {
     "data": {
      "text/plain": [
       "<matplotlib.text.Text at 0x7873080>"
      ]
     },
     "execution_count": 14,
     "metadata": {},
     "output_type": "execute_result"
    },
    {
     "data": {
      "image/png": "[encoded data removed]",
      "text/plain": [
       "<matplotlib.figure.Figure at 0x790e908>"
      ]
     },
     "metadata": {},
     "output_type": "display_data"
    }
   ],
   "source": [
    "import numpy as np\n",
    "import pylab as plt\n",
    "%matplotlib inline\n",
    "plt.clf()\n",
    "\n",
    "x1 = range(0, 100, 1)\n",
    "plt.plot(x1, [funcion_prom(i) for i in x1], 'b' ,label = 'Promedio')\n",
    "plt.plot(x1, [funcion_peor(j) for j in x1], 'r' ,label = 'Peor')\n",
    "plt.plot(x1, [funcion_mejor(num) for num in x1], 'g' ,label = 'Mejor')\n",
    "plt.legend(loc=\"upper left\")\n",
    "plt.xlabel(\"Arreglos\")\n",
    "plt.ylabel(\"Tiempo(s)\")\n",
    "plt.title(\"Insertion sort\")\n",
    "#plt.show()"
   ]
  }
 ],
 "metadata": {
  "kernelspec": {
   "display_name": "Python 2",
   "language": "python",
   "name": "python2"
  },
  "language_info": {
   "codemirror_mode": {
    "name": "ipython",
    "version": 2
   },
   "file_extension": ".py",
   "mimetype": "text/x-python",
   "name": "python",
   "nbconvert_exporter": "python",
   "pygments_lexer": "ipython2",
   "version": "2.7.11"
  }
 },
 "nbformat": 4,
 "nbformat_minor": 0
}
